{
 "cells": [
  {
   "cell_type": "code",
   "id": "initial_id",
   "metadata": {
    "collapsed": true,
    "ExecuteTime": {
     "end_time": "2024-11-20T22:49:25.819004Z",
     "start_time": "2024-11-20T22:49:19.826836Z"
    }
   },
   "source": [
    "import json\n",
    "\n",
    "import pandas as pd\n",
    "import pytorch_lightning as pl\n",
    "import timm\n",
    "import torch\n",
    "from PIL import Image\n",
    "from torch import nn\n",
    "from torch.utils.data import Dataset, DataLoader\n",
    "from torchvision import transforms\n",
    "from tqdm import tqdm"
   ],
   "outputs": [
    {
     "name": "stderr",
     "output_type": "stream",
     "text": [
      "D:\\ganka_2024\\jsaio_2024_solution\\venv\\lib\\site-packages\\tqdm\\auto.py:21: TqdmWarning: IProgress not found. Please update jupyter and ipywidgets. See https://ipywidgets.readthedocs.io/en/stable/user_install.html\n",
      "  from .autonotebook import tqdm as notebook_tqdm\n"
     ]
    }
   ],
   "execution_count": 1
  },
  {
   "metadata": {
    "ExecuteTime": {
     "end_time": "2024-11-20T22:49:25.835022Z",
     "start_time": "2024-11-20T22:49:25.825005Z"
    }
   },
   "cell_type": "code",
   "source": "DEBUG = False",
   "id": "8a385e25a97e7c16",
   "outputs": [],
   "execution_count": 2
  },
  {
   "metadata": {
    "ExecuteTime": {
     "end_time": "2024-11-20T22:49:26.059110Z",
     "start_time": "2024-11-20T22:49:26.044075Z"
    }
   },
   "cell_type": "code",
   "source": [
    "CONFIG_JSON_PATH = \"../config/config.json\"\n",
    "\n",
    "with open(CONFIG_JSON_PATH, encoding=\"utf-8\") as f:\n",
    "    cfg = json.load(f)\n",
    "\n",
    "SUBMISSION_PATH = cfg[\"dataset\"][\"submission\"]\n",
    "TEST_CROP_DATASET_DIR = cfg[\"dataset\"][\"test_crop\"]\n",
    "\n",
    "BATCH_SIZE = cfg[\"params\"][\"batch_size\"]\n",
    "NUM_WORKERS = cfg[\"params\"][\"num_workers\"]\n",
    "IMG_SIZE = cfg[\"params\"][\"img_size\"]\n",
    "TEST_SIZE = cfg[\"params\"][\"test_size\"]\n",
    "SEED = cfg[\"params\"][\"seed\"]\n",
    "\n",
    "MAX_EPOCH = 20"
   ],
   "id": "6819344a1688536",
   "outputs": [],
   "execution_count": 3
  },
  {
   "metadata": {
    "ExecuteTime": {
     "end_time": "2024-11-20T22:49:26.091161Z",
     "start_time": "2024-11-20T22:49:26.078634Z"
    }
   },
   "cell_type": "code",
   "source": "cfg",
   "id": "7eaa4c4e6edd63c2",
   "outputs": [
    {
     "data": {
      "text/plain": [
       "{'dataset': {'label_train': 'D:\\\\ganka_2024\\\\dataset\\\\label_train.csv',\n",
       "  'submission': 'D:\\\\ganka_2024\\\\dataset\\\\解答用ファイル.csv',\n",
       "  'train': 'D:\\\\ganka_2024\\\\dataset\\\\train',\n",
       "  'train_crop': 'D:\\\\ganka_2024\\\\dataset\\\\train_crop',\n",
       "  'test': 'D:\\\\ganka_2024\\\\dataset\\\\test',\n",
       "  'test_crop': 'D:\\\\ganka_2024\\\\dataset\\\\test_crop'},\n",
       " 'params': {'model_name': 'tf_efficientnetv2_s.in21k_ft_in1k',\n",
       "  'batch_size': 32,\n",
       "  'num_workers': 0,\n",
       "  'img_size': 224,\n",
       "  'test_size': 0.2,\n",
       "  'seed': 1024,\n",
       "  'learning_rate': 0.001}}"
      ]
     },
     "execution_count": 4,
     "metadata": {},
     "output_type": "execute_result"
    }
   ],
   "execution_count": 4
  },
  {
   "metadata": {
    "ExecuteTime": {
     "end_time": "2024-11-20T22:49:26.122002Z",
     "start_time": "2024-11-20T22:49:26.109941Z"
    }
   },
   "cell_type": "code",
   "source": "pl.seed_everything(SEED, workers=True)",
   "id": "db20a53cee24bfff",
   "outputs": [
    {
     "name": "stderr",
     "output_type": "stream",
     "text": [
      "Seed set to 1024\n"
     ]
    },
    {
     "data": {
      "text/plain": [
       "1024"
      ]
     },
     "execution_count": 5,
     "metadata": {},
     "output_type": "execute_result"
    }
   ],
   "execution_count": 5
  },
  {
   "metadata": {
    "ExecuteTime": {
     "end_time": "2024-11-20T22:49:26.169185Z",
     "start_time": "2024-11-20T22:49:26.160171Z"
    }
   },
   "cell_type": "code",
   "source": "df = pd.read_csv(SUBMISSION_PATH)",
   "id": "75b7a971b26c852d",
   "outputs": [],
   "execution_count": 6
  },
  {
   "metadata": {},
   "cell_type": "markdown",
   "source": "### dataset",
   "id": "2e47412eed107355"
  },
  {
   "metadata": {
    "ExecuteTime": {
     "end_time": "2024-11-20T22:49:26.199805Z",
     "start_time": "2024-11-20T22:49:26.185204Z"
    }
   },
   "cell_type": "code",
   "source": [
    "class PupilTestCSV(Dataset):\n",
    "    def __init__(self, df: pd.DataFrame, transform=None):\n",
    "        self.df = df.reset_index(drop=True)\n",
    "        self.transform = transform\n",
    "\n",
    "    def __len__(self):\n",
    "        return len(self.df)\n",
    "\n",
    "    def __getitem__(self, idx):\n",
    "        img_path = self.df.loc[idx, 'path']\n",
    "\n",
    "        image = Image.open(img_path).convert('RGB')\n",
    "\n",
    "        if self.transform:\n",
    "            image = self.transform(image)\n",
    "\n",
    "        return image"
   ],
   "id": "90b126365935f056",
   "outputs": [],
   "execution_count": 7
  },
  {
   "metadata": {},
   "cell_type": "markdown",
   "source": "### Dataloader",
   "id": "56ae0a79c465a755"
  },
  {
   "metadata": {},
   "cell_type": "markdown",
   "source": "### model",
   "id": "7b0d3053626ed3a2"
  },
  {
   "metadata": {
    "ExecuteTime": {
     "end_time": "2024-11-20T22:49:26.229888Z",
     "start_time": "2024-11-20T22:49:26.215823Z"
    }
   },
   "cell_type": "code",
   "source": [
    "class PupilModel(pl.LightningModule):\n",
    "    def __init__(\n",
    "            self,\n",
    "            model_name: str = \"maxvit_tiny_tf_224.in1k\",\n",
    "            pretrained: bool = True,\n",
    "            num_classes: int = 2,\n",
    "            learning_rate: float = 1e-3,\n",
    "    ):\n",
    "        super().__init__()\n",
    "        self.save_hyperparameters()\n",
    "\n",
    "        self.model = timm.create_model(\n",
    "            model_name,\n",
    "            pretrained=pretrained,\n",
    "            num_classes=num_classes\n",
    "        )\n",
    "\n",
    "        self.criterion = nn.CrossEntropyLoss()\n",
    "\n",
    "    def forward(self, x):\n",
    "        return self.model(x)"
   ],
   "id": "d068f9c24df3264f",
   "outputs": [],
   "execution_count": 8
  },
  {
   "metadata": {},
   "cell_type": "markdown",
   "source": "### inference",
   "id": "fcd5706ba9ffca25"
  },
  {
   "metadata": {
    "ExecuteTime": {
     "end_time": "2024-11-20T22:49:26.261999Z",
     "start_time": "2024-11-20T22:49:26.246902Z"
    }
   },
   "cell_type": "code",
   "source": [
    "import os\n",
    "\n",
    "df = pd.read_csv(SUBMISSION_PATH)\n",
    "\n",
    "if DEBUG:\n",
    "    df = df.head(300)\n",
    "\n",
    "df['path'] = df['File'].apply(lambda x: os.path.join(TEST_CROP_DATASET_DIR, x))"
   ],
   "id": "6e31cad79216d3a1",
   "outputs": [],
   "execution_count": 9
  },
  {
   "metadata": {},
   "cell_type": "markdown",
   "source": "### Dataloader",
   "id": "d974b8b30c8d66ce"
  },
  {
   "metadata": {
    "ExecuteTime": {
     "end_time": "2024-11-20T22:49:26.294109Z",
     "start_time": "2024-11-20T22:49:26.279075Z"
    }
   },
   "cell_type": "code",
   "source": [
    "test_transforms = transforms.Compose([\n",
    "    transforms.Resize((IMG_SIZE, IMG_SIZE)),\n",
    "    transforms.ToTensor(),\n",
    "    transforms.Normalize(\n",
    "        mean=[0.485, 0.456, 0.406],\n",
    "        std=[0.229, 0.224, 0.225]\n",
    "    ),\n",
    "])\n",
    "\n",
    "test_dataset = PupilTestCSV(\n",
    "    df,\n",
    "    transform=test_transforms,\n",
    ")\n",
    "\n",
    "test_loader = DataLoader(\n",
    "    test_dataset,\n",
    "    batch_size=BATCH_SIZE,\n",
    "    shuffle=False,\n",
    "    num_workers=NUM_WORKERS,\n",
    "    pin_memory=True\n",
    ")"
   ],
   "id": "5c4b1f0b5b57c441",
   "outputs": [],
   "execution_count": 10
  },
  {
   "metadata": {},
   "cell_type": "markdown",
   "source": "### load model",
   "id": "1edd16ca63fa2ef7"
  },
  {
   "metadata": {
    "ExecuteTime": {
     "end_time": "2024-11-20T22:49:26.326167Z",
     "start_time": "2024-11-20T22:49:26.311150Z"
    }
   },
   "cell_type": "code",
   "source": [
    "base_path = \"../2_train_seed_ensemble\"\n",
    "experiments_folds = [(\"exp040\", [1024, 1025, 1026, 1027, 1028], [0, 1, 2, 3, 4]),\n",
    "                     (\"exp042\", [2024, 2025, 2026, 2027, 2028], [0, 1, 2, 3, 4])]\n",
    "\n",
    "ckpt_files = []\n",
    "\n",
    "for exp, seeds, folds in experiments_folds:\n",
    "    for seed in seeds:\n",
    "        for fold in folds:\n",
    "            ckpt_files.append(os.path.join(base_path, exp, \"checkpoints\", f\"final_model_seed_{seed}_fold_{fold}.pth\"))\n",
    "\n",
    "ckpt_files"
   ],
   "id": "6364bc263c1e5ab9",
   "outputs": [
    {
     "data": {
      "text/plain": [
       "['../2_train_seed_ensemble\\\\exp040\\\\checkpoints\\\\final_model_seed_1024_fold_0.pth',\n",
       " '../2_train_seed_ensemble\\\\exp040\\\\checkpoints\\\\final_model_seed_1024_fold_1.pth',\n",
       " '../2_train_seed_ensemble\\\\exp040\\\\checkpoints\\\\final_model_seed_1024_fold_2.pth',\n",
       " '../2_train_seed_ensemble\\\\exp040\\\\checkpoints\\\\final_model_seed_1024_fold_3.pth',\n",
       " '../2_train_seed_ensemble\\\\exp040\\\\checkpoints\\\\final_model_seed_1024_fold_4.pth',\n",
       " '../2_train_seed_ensemble\\\\exp040\\\\checkpoints\\\\final_model_seed_1025_fold_0.pth',\n",
       " '../2_train_seed_ensemble\\\\exp040\\\\checkpoints\\\\final_model_seed_1025_fold_1.pth',\n",
       " '../2_train_seed_ensemble\\\\exp040\\\\checkpoints\\\\final_model_seed_1025_fold_2.pth',\n",
       " '../2_train_seed_ensemble\\\\exp040\\\\checkpoints\\\\final_model_seed_1025_fold_3.pth',\n",
       " '../2_train_seed_ensemble\\\\exp040\\\\checkpoints\\\\final_model_seed_1025_fold_4.pth',\n",
       " '../2_train_seed_ensemble\\\\exp040\\\\checkpoints\\\\final_model_seed_1026_fold_0.pth',\n",
       " '../2_train_seed_ensemble\\\\exp040\\\\checkpoints\\\\final_model_seed_1026_fold_1.pth',\n",
       " '../2_train_seed_ensemble\\\\exp040\\\\checkpoints\\\\final_model_seed_1026_fold_2.pth',\n",
       " '../2_train_seed_ensemble\\\\exp040\\\\checkpoints\\\\final_model_seed_1026_fold_3.pth',\n",
       " '../2_train_seed_ensemble\\\\exp040\\\\checkpoints\\\\final_model_seed_1026_fold_4.pth',\n",
       " '../2_train_seed_ensemble\\\\exp040\\\\checkpoints\\\\final_model_seed_1027_fold_0.pth',\n",
       " '../2_train_seed_ensemble\\\\exp040\\\\checkpoints\\\\final_model_seed_1027_fold_1.pth',\n",
       " '../2_train_seed_ensemble\\\\exp040\\\\checkpoints\\\\final_model_seed_1027_fold_2.pth',\n",
       " '../2_train_seed_ensemble\\\\exp040\\\\checkpoints\\\\final_model_seed_1027_fold_3.pth',\n",
       " '../2_train_seed_ensemble\\\\exp040\\\\checkpoints\\\\final_model_seed_1027_fold_4.pth',\n",
       " '../2_train_seed_ensemble\\\\exp040\\\\checkpoints\\\\final_model_seed_1028_fold_0.pth',\n",
       " '../2_train_seed_ensemble\\\\exp040\\\\checkpoints\\\\final_model_seed_1028_fold_1.pth',\n",
       " '../2_train_seed_ensemble\\\\exp040\\\\checkpoints\\\\final_model_seed_1028_fold_2.pth',\n",
       " '../2_train_seed_ensemble\\\\exp040\\\\checkpoints\\\\final_model_seed_1028_fold_3.pth',\n",
       " '../2_train_seed_ensemble\\\\exp040\\\\checkpoints\\\\final_model_seed_1028_fold_4.pth',\n",
       " '../2_train_seed_ensemble\\\\exp042\\\\checkpoints\\\\final_model_seed_2024_fold_0.pth',\n",
       " '../2_train_seed_ensemble\\\\exp042\\\\checkpoints\\\\final_model_seed_2024_fold_1.pth',\n",
       " '../2_train_seed_ensemble\\\\exp042\\\\checkpoints\\\\final_model_seed_2024_fold_2.pth',\n",
       " '../2_train_seed_ensemble\\\\exp042\\\\checkpoints\\\\final_model_seed_2024_fold_3.pth',\n",
       " '../2_train_seed_ensemble\\\\exp042\\\\checkpoints\\\\final_model_seed_2024_fold_4.pth',\n",
       " '../2_train_seed_ensemble\\\\exp042\\\\checkpoints\\\\final_model_seed_2025_fold_0.pth',\n",
       " '../2_train_seed_ensemble\\\\exp042\\\\checkpoints\\\\final_model_seed_2025_fold_1.pth',\n",
       " '../2_train_seed_ensemble\\\\exp042\\\\checkpoints\\\\final_model_seed_2025_fold_2.pth',\n",
       " '../2_train_seed_ensemble\\\\exp042\\\\checkpoints\\\\final_model_seed_2025_fold_3.pth',\n",
       " '../2_train_seed_ensemble\\\\exp042\\\\checkpoints\\\\final_model_seed_2025_fold_4.pth',\n",
       " '../2_train_seed_ensemble\\\\exp042\\\\checkpoints\\\\final_model_seed_2026_fold_0.pth',\n",
       " '../2_train_seed_ensemble\\\\exp042\\\\checkpoints\\\\final_model_seed_2026_fold_1.pth',\n",
       " '../2_train_seed_ensemble\\\\exp042\\\\checkpoints\\\\final_model_seed_2026_fold_2.pth',\n",
       " '../2_train_seed_ensemble\\\\exp042\\\\checkpoints\\\\final_model_seed_2026_fold_3.pth',\n",
       " '../2_train_seed_ensemble\\\\exp042\\\\checkpoints\\\\final_model_seed_2026_fold_4.pth',\n",
       " '../2_train_seed_ensemble\\\\exp042\\\\checkpoints\\\\final_model_seed_2027_fold_0.pth',\n",
       " '../2_train_seed_ensemble\\\\exp042\\\\checkpoints\\\\final_model_seed_2027_fold_1.pth',\n",
       " '../2_train_seed_ensemble\\\\exp042\\\\checkpoints\\\\final_model_seed_2027_fold_2.pth',\n",
       " '../2_train_seed_ensemble\\\\exp042\\\\checkpoints\\\\final_model_seed_2027_fold_3.pth',\n",
       " '../2_train_seed_ensemble\\\\exp042\\\\checkpoints\\\\final_model_seed_2027_fold_4.pth',\n",
       " '../2_train_seed_ensemble\\\\exp042\\\\checkpoints\\\\final_model_seed_2028_fold_0.pth',\n",
       " '../2_train_seed_ensemble\\\\exp042\\\\checkpoints\\\\final_model_seed_2028_fold_1.pth',\n",
       " '../2_train_seed_ensemble\\\\exp042\\\\checkpoints\\\\final_model_seed_2028_fold_2.pth',\n",
       " '../2_train_seed_ensemble\\\\exp042\\\\checkpoints\\\\final_model_seed_2028_fold_3.pth',\n",
       " '../2_train_seed_ensemble\\\\exp042\\\\checkpoints\\\\final_model_seed_2028_fold_4.pth']"
      ]
     },
     "execution_count": 11,
     "metadata": {},
     "output_type": "execute_result"
    }
   ],
   "execution_count": 11
  },
  {
   "metadata": {
    "ExecuteTime": {
     "end_time": "2024-11-20T22:50:35.865838Z",
     "start_time": "2024-11-20T22:49:26.343005Z"
    }
   },
   "cell_type": "code",
   "source": [
    "device = torch.device(\"cuda\" if torch.cuda.is_available() else \"cpu\")\n",
    "best_models = []\n",
    "\n",
    "for ckpt_file in ckpt_files:\n",
    "    model = PupilModel.load_from_checkpoint(ckpt_file).to(device)\n",
    "    model.eval()\n",
    "    model.freeze()\n",
    "    best_models.append(model)"
   ],
   "id": "a8f7a73d77ec3c47",
   "outputs": [],
   "execution_count": 12
  },
  {
   "metadata": {},
   "cell_type": "markdown",
   "source": "### inference",
   "id": "b60adb6a3265f9e4"
  },
  {
   "metadata": {
    "ExecuteTime": {
     "end_time": "2024-11-20T22:51:50.709821Z",
     "start_time": "2024-11-20T22:50:35.898364Z"
    }
   },
   "cell_type": "code",
   "source": [
    "transforms = [\n",
    "    lambda x: x,  # 元の入力\n",
    "    lambda x: torch.flip(x, dims=[-1]),  # 水平フリップ\n",
    "    lambda x: torch.flip(x, dims=[-2]),  # 垂直フリップ\n",
    "]\n",
    "\n",
    "all_predictions = []\n",
    "\n",
    "with torch.no_grad():\n",
    "    for batch in tqdm(test_loader):\n",
    "        inputs = batch\n",
    "        inputs = inputs.to(device)\n",
    "\n",
    "        batch_outputs = []\n",
    "        for model in best_models:\n",
    "            model_outputs = []\n",
    "            for transform in transforms:\n",
    "                transformed_inputs = transform(inputs)\n",
    "                outputs = model(transformed_inputs)\n",
    "                outputs, _ = torch.split(outputs, [2, 7], dim=1)  # 非メタボの確率 / メタボの確率 のみ取得\n",
    "                model_outputs.append(outputs)\n",
    "            batch_outputs.extend(model_outputs)\n",
    "\n",
    "        outputs = torch.stack(batch_outputs, dim=0)\n",
    "\n",
    "        outputs_mean = outputs.mean(dim=0)\n",
    "\n",
    "        _, preds = torch.max(outputs_mean, dim=1)\n",
    "\n",
    "        all_predictions.extend(preds.cpu().numpy())"
   ],
   "id": "7a6c1965c2f52ae5",
   "outputs": [
    {
     "name": "stderr",
     "output_type": "stream",
     "text": [
      "  0%|          | 0/16 [00:00<?, ?it/s]D:\\ganka_2024\\jsaio_2024_solution\\venv\\lib\\site-packages\\timm\\models\\maxxvit.py:260: UserWarning: 1Torch was not compiled with flash attention. (Triggered internally at C:\\actions-runner\\_work\\pytorch\\pytorch\\builder\\windows\\pytorch\\aten\\src\\ATen\\native\\transformers\\cuda\\sdp_utils.cpp:555.)\n",
      "  x = torch.nn.functional.scaled_dot_product_attention(\n",
      "100%|██████████| 16/16 [01:14<00:00,  4.67s/it]\n"
     ]
    }
   ],
   "execution_count": 13
  },
  {
   "metadata": {
    "ExecuteTime": {
     "end_time": "2024-11-20T22:51:51.584524Z",
     "start_time": "2024-11-20T22:51:51.458547Z"
    }
   },
   "cell_type": "code",
   "source": [
    "df[\"prediction\"] = all_predictions\n",
    "submission_df = df[['File', 'prediction']]\n",
    "submission_df = submission_df.rename(columns={'prediction': 'MetabolicSyndrome_0=No_1=Yes'})"
   ],
   "id": "db7bf02b2338779e",
   "outputs": [],
   "execution_count": 14
  },
  {
   "metadata": {
    "ExecuteTime": {
     "end_time": "2024-11-20T22:51:51.772434Z",
     "start_time": "2024-11-20T22:51:51.709736Z"
    }
   },
   "cell_type": "code",
   "source": "submission_df.to_csv(\"解答用ファイル.csv\", index=False)",
   "id": "b3618e4c3ad6e786",
   "outputs": [],
   "execution_count": 15
  }
 ],
 "metadata": {
  "kernelspec": {
   "display_name": "Python 3",
   "language": "python",
   "name": "python3"
  },
  "language_info": {
   "codemirror_mode": {
    "name": "ipython",
    "version": 2
   },
   "file_extension": ".py",
   "mimetype": "text/x-python",
   "name": "python",
   "nbconvert_exporter": "python",
   "pygments_lexer": "ipython2",
   "version": "2.7.6"
  }
 },
 "nbformat": 4,
 "nbformat_minor": 5
}
